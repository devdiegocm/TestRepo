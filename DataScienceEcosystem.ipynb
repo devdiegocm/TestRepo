{
 "cells": [
  {
   "cell_type": "markdown",
   "id": "e6387ecd-a05c-42c7-8cad-38707df82af7",
   "metadata": {},
   "source": []
  },
  {
   "cell_type": "markdown",
   "id": "c98b4b39-bc6a-4e22-9617-59e68a47d181",
   "metadata": {},
   "source": [
    "# Data Science Tools and Ecosystem"
   ]
  },
  {
   "cell_type": "markdown",
   "id": "1e76dd82-5799-4ccf-92ef-a32dde637342",
   "metadata": {},
   "source": [
    "En este cuaderno, se resumen las herramientas y ecosistemas de ciencias de datos."
   ]
  },
  {
   "cell_type": "markdown",
   "id": "edaeff21-a1e9-4fd9-904f-707f9537000e",
   "metadata": {},
   "source": [
    "**Objetivos:**\n",
    "\n",
    "- Listar lenguajes populares para Ciencia de Datos  \n",
    "- Comprender la diferencia entre lenguajes compilados e interpretados  \n",
    "- Identificar herramientas comunes utilizadas en el entorno de Ciencia de Datos  \n",
    "- Reconocer etapas clave en un proyecto de Ciencia de Datos  \n",
    "- Familiarizarse con notebooks Jupyter como entorno de desarrollo "
   ]
  },
  {
   "cell_type": "markdown",
   "id": "f7927c43-6687-4e21-bfe9-99e2f8292f7a",
   "metadata": {},
   "source": [
    "Algunos de los lenguajes populares que utilizan los científicos de datos son:\n",
    "1. JavaScript\n",
    "2. Python\n",
    "3. C#"
   ]
  },
  {
   "cell_type": "markdown",
   "id": "16beb1fc-f90f-4a5c-893f-3414a89318b9",
   "metadata": {},
   "source": [
    "Algunas de la bibliotecas comúnmente utilizadas por los científicos de datos incluyen:\n",
    "1. NumpPy\n",
    "2. Pandas\n",
    "3. Matplotlib"
   ]
  },
  {
   "cell_type": "markdown",
   "id": "da0d12ce-114c-4aec-924e-7873e2406d7f",
   "metadata": {},
   "source": [
    "|Herramientas de Ciencia de Datos|\n",
    "|--------------------------------|\n",
    "|        Python                  |\n",
    "|         R                      |\n",
    "|    SQL                         |"
   ]
  },
  {
   "cell_type": "markdown",
   "id": "1327dd7f-4400-49a3-9762-d65b15eb0f55",
   "metadata": {},
   "source": [
    "### A continuación, se presentan algunos ejemplos de evaluación de expresiones aritméticas en Python"
   ]
  },
  {
   "cell_type": "code",
   "execution_count": 2,
   "id": "9eac9dc6-0478-4c62-a340-135678b29d81",
   "metadata": {},
   "outputs": [
    {
     "data": {
      "text/plain": [
       "17"
      ]
     },
     "execution_count": 2,
     "metadata": {},
     "output_type": "execute_result"
    }
   ],
   "source": [
    "#Esta es una expresión aritmética simple para multiplicar y luego sumar enteros\n",
    "(3*4)+5"
   ]
  },
  {
   "cell_type": "code",
   "execution_count": 3,
   "id": "ac3bcd1a-6314-4cb3-bba3-dac979a3dbbf",
   "metadata": {},
   "outputs": [
    {
     "data": {
      "text/plain": [
       "3.3333333333333335"
      ]
     },
     "execution_count": 3,
     "metadata": {},
     "output_type": "execute_result"
    }
   ],
   "source": [
    "#Esto convertirá 200 minutos a horas dividiendo por 60\n",
    "200/60"
   ]
  },
  {
   "cell_type": "markdown",
   "id": "0ffbe094-ddcf-4512-a33d-44339f5dd1d6",
   "metadata": {},
   "source": [
    "## Autor\n",
    "Diego"
   ]
  }
 ],
 "metadata": {
  "kernelspec": {
   "display_name": "Python 3 (ipykernel)",
   "language": "python",
   "name": "python3"
  },
  "language_info": {
   "codemirror_mode": {
    "name": "ipython",
    "version": 3
   },
   "file_extension": ".py",
   "mimetype": "text/x-python",
   "name": "python",
   "nbconvert_exporter": "python",
   "pygments_lexer": "ipython3",
   "version": "3.12.8"
  }
 },
 "nbformat": 4,
 "nbformat_minor": 5
}
